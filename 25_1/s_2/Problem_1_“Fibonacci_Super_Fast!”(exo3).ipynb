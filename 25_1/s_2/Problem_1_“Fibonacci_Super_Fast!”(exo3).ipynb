{
  "nbformat": 4,
  "nbformat_minor": 0,
  "metadata": {
    "colab": {
      "provenance": []
    },
    "kernelspec": {
      "name": "python3",
      "display_name": "Python 3"
    },
    "language_info": {
      "name": "python"
    }
  },
  "cells": [
    {
      "cell_type": "code",
      "execution_count": 6,
      "metadata": {
        "colab": {
          "base_uri": "https://localhost:8080/"
        },
        "id": "YA1ap0Q2fdQU",
        "outputId": "bca93a2d-9391-4fcd-fca6-b5128279ccce"
      },
      "outputs": [
        {
          "output_type": "stream",
          "name": "stdout",
          "text": [
            "A^ 16  =  [[1597, 987], [987, 610]]\n",
            "Matrix multiplications: 4\n"
          ]
        }
      ],
      "source": [
        "\n",
        "#i try to make it fast using recursion and matrix multiplication\n",
        "def multiply_matrix(a, b):\n",
        "    #manually multiply 2x2 matrices with each other\n",
        "    c = [[0, 0],\n",
        "         [0, 0]]\n",
        "    c[0][0] = a[0][0]*b[0][0] + a[0][1]*b[1][0]\n",
        "    c[0][1] = a[0][0]*b[0][1] + a[0][1]*b[1][1]\n",
        "    c[1][0] = a[1][0]*b[0][0] + a[1][1]*b[1][0]\n",
        "    c[1][1] = a[1][0]*b[0][1] + a[1][1]*b[1][1]\n",
        "    return c\n",
        "\n",
        "def power_matrix(A, n, counter=[0]):\n",
        "    # recursive function to make matrix A to power n\n",
        "    if n == 1:\n",
        "        return A\n",
        "    #if n even\n",
        "    if n % 2 == 0:\n",
        "        half = power_matrix(A, n // 2, counter)\n",
        "        counter[0] += 1  #count multiplication\n",
        "        return multiply_matrix(half, half)\n",
        "    else:\n",
        "        half = power_matrix(A, n // 2, counter)\n",
        "        counter[0] += 2       #count mult\n",
        "        return multiply_matrix(multiply_matrix(half, half), A)\n",
        "\n",
        "#main part\n",
        "A = [[1, 1],\n",
        "     [1, 0]]\n",
        "\n",
        "n = 16  #suppose n is 16\n",
        "counter = [0]\n",
        "\n",
        "result = power_matrix(A, n, counter)\n",
        "\n",
        "print(\"A^\", n, \" = \", result)\n",
        "print(\"Matrix multiplications:\", counter[0])\n"
      ]
    }
  ]
}