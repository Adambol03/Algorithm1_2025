{
 "cells": [
  {
   "cell_type": "markdown",
   "metadata": {
    "id": "ou454dQ-y8NN"
   },
   "source": []
  },
  {
   "cell_type": "markdown",
   "metadata": {
    "id": "dAnL7Bnhx3uf"
   },
   "source": [
    "Problem 1 (Sorting Algorithms). Write Sorting Algorithms:"
   ]
  },
  {
   "cell_type": "markdown",
   "metadata": {
    "id": "CK3De_8_y8rJ"
   },
   "source": [
    "1. Bad O(n²) Sorting"
   ]
  },
  {
   "cell_type": "code",
   "execution_count": 9,
   "metadata": {
    "id": "neIa_0Z7zMpQ"
   },
   "outputs": [],
   "source": [
    "def bad_sort(arr):\n",
    "    n = len(arr)\n",
    "    for i in range(n):\n",
    "        for j in range(0, n-i-1):\n",
    "            if arr[j] > arr[j+1]:\n",
    "                arr[j], arr[j+1] = arr[j+1], arr[j]\n",
    "    return arr\n"
   ]
  },
  {
   "cell_type": "markdown",
   "metadata": {
    "id": "vt_2KVo3zOtC"
   },
   "source": [
    "2. Quick Sort"
   ]
  },
  {
   "cell_type": "markdown",
   "metadata": {
    "id": "h-OjHHoKzt1-"
   },
   "source": [
    " random pivot\n"
   ]
  },
  {
   "cell_type": "code",
   "execution_count": 7,
   "metadata": {
    "id": "a9ejt1iCy59N"
   },
   "outputs": [],
   "source": [
    "import random\n",
    "\n",
    "def quick_sort_random(arr):\n",
    "    if len(arr) <= 1:\n",
    "        return arr\n",
    "    pivot = random.choice(arr)\n",
    "    left = [x for x in arr if x < pivot]\n",
    "    middle = [x for x in arr if x == pivot]\n",
    "    right = [x for x in arr if x > pivot]\n",
    "    return quick_sort_random(left) + middle + quick_sort_random(right)\n"
   ]
  },
  {
   "cell_type": "markdown",
   "metadata": {
    "id": "Iba_9S2Rznhj"
   },
   "source": [
    "average pivot (down + middle + up)\n"
   ]
  },
  {
   "cell_type": "code",
   "execution_count": null,
   "metadata": {
    "id": "b2zQR8RKzyJw"
   },
   "outputs": [],
   "source": [
    "def quick_sort_average(arr):\n",
    "    if len(arr) <= 1:\n",
    "        return arr\n",
    "    pivot = sorted([arr[0], arr[len(arr)//2], arr[-1]])[1]\n",
    "    left = [x for x in arr if x < pivot]\n",
    "    middle = [x for x in arr if x == pivot]\n",
    "    right = [x for x in arr if x > pivot]\n",
    "    return quick_sort_average(left) + middle + quick_sort_average(right)\n"
   ]
  },
  {
   "cell_type": "markdown",
   "metadata": {
    "id": "4UbUzlMOzAq3"
   },
   "source": [
    "3. Merge Sort"
   ]
  },
  {
   "cell_type": "code",
   "execution_count": null,
   "metadata": {
    "id": "Cpr0ip8az2ek"
   },
   "outputs": [],
   "source": [
    "def merge_sort(arr):\n",
    "    if len(arr) <= 1:\n",
    "        return arr\n",
    "    mid = len(arr)//2\n",
    "    left = merge_sort(arr[:mid])\n",
    "    right = merge_sort(arr[mid:])\n",
    "    result = []\n",
    "    i = j = 0\n",
    "    while i < len(left) and j < len(right):\n",
    "        if left[i] < right[j]:\n",
    "            result.append(left[i])\n",
    "            i += 1\n",
    "        else:\n",
    "            result.append(right[j])\n",
    "            j += 1\n",
    "    result.extend(left[i:])\n",
    "    result.extend(right[j:])\n",
    "    return result\n"
   ]
  },
  {
   "cell_type": "markdown",
   "metadata": {
    "id": "6UkTaV1Cz5v8"
   },
   "source": [
    "4. Heap Sort"
   ]
  },
  {
   "cell_type": "code",
   "execution_count": null,
   "metadata": {
    "id": "ydimC6m9z4NP"
   },
   "outputs": [],
   "source": [
    "def heapify(arr, n, i):\n",
    "    largest = i\n",
    "    l = 2*i + 1\n",
    "    r = 2*i + 2\n",
    "\n",
    "    if l < n and arr[l] > arr[largest]:\n",
    "        largest = l\n",
    "    if r < n and arr[r] > arr[largest]:\n",
    "        largest = r\n",
    "\n",
    "    if largest != i:\n",
    "        arr[i], arr[largest] = arr[largest], arr[i]\n",
    "        heapify(arr, n, largest)\n",
    "\n",
    "def heap_sort(arr):\n",
    "    n = len(arr)\n",
    "    for i in range(n//2-1, -1, -1):\n",
    "        heapify(arr, n, i)\n",
    "    for i in range(n-1, 0, -1):\n",
    "        arr[i], arr[0] = arr[0], arr[i]\n",
    "        heapify(arr, i, 0)\n",
    "    return arr\n"
   ]
  },
  {
   "cell_type": "markdown",
   "metadata": {
    "id": "LXv8K2CNz-rq"
   },
   "source": [
    "| Algorithm              | Time Complexity             | Space Complexity   |\n",
    "| ---------------------- | --------------------------- | ------------------ |\n",
    "| Bad Sort (Bubble)      | O(n²) avg/worst             | O(1)               |\n",
    "| Quick Sort (rand)      | O(n log n) avg, O(n²) worst | O(log n) recursion |\n",
    "| Quick Sort (avg pivot) | O(n log n) avg              | O(log n) recursion |\n",
    "| Merge Sort             | O(n log n)                  | O(n)               |\n",
    "| Heap Sort              | O(n log n)                  | O(1)               |\n"
   ]
  },
  {
   "cell_type": "markdown",
   "metadata": {
    "id": "cPIjSZZ00B_S"
   },
   "source": [
    "Problem 3: Compare Performance"
   ]
  },
  {
   "cell_type": "code",
   "execution_count": 10,
   "metadata": {
    "colab": {
     "base_uri": "https://localhost:8080/"
    },
    "id": "Z_bhfXXxz_UD",
    "jupyter": {
     "source_hidden": true
    },
    "outputId": "88862e79-b15b-4975-f97e-0e3f718b1dc9"
   },
   "outputs": [
    {
     "name": "stdout",
     "output_type": "stream",
     "text": [
      "Size: 100\n",
      "bad_sort: 0.000432s\n",
      "quick_sort_random: 0.000158s\n",
      "quick_sort_average: 0.000124s\n",
      "merge_sort: 0.000160s\n",
      "heap_sort: 0.000152s\n",
      "\n",
      "Size: 1000\n",
      "bad_sort: 0.055360s\n",
      "quick_sort_random: 0.001706s\n",
      "quick_sort_average: 0.001414s\n",
      "merge_sort: 0.001861s\n",
      "heap_sort: 0.002337s\n",
      "\n",
      "Size: 5000\n",
      "bad_sort: 1.449173s\n",
      "quick_sort_random: 0.011281s\n",
      "quick_sort_average: 0.008939s\n",
      "merge_sort: 0.012858s\n",
      "heap_sort: 0.017621s\n",
      "\n"
     ]
    }
   ],
   "source": [
    "import time\n",
    "\n",
    "def measure_time(func, arr):\n",
    "    start = time.time()\n",
    "    func(arr.copy())\n",
    "    return time.time() - start\n",
    "\n",
    "sizes = [100, 1000, 5000]\n",
    "algorithms = [bad_sort, quick_sort_random, quick_sort_average, merge_sort, heap_sort]\n",
    "\n",
    "for size in sizes:\n",
    "    data = random.sample(range(size*10), size)\n",
    "    print(f\"Size: {size}\")\n",
    "    for algo in algorithms:\n",
    "        print(f\"{algo.__name__}: {measure_time(algo, data):.6f}s\")\n",
    "    print()\n"
   ]
  },
  {
   "cell_type": "code",
   "execution_count": null,
   "metadata": {
    "id": "21kP5Rbm0FHF"
   },
   "outputs": [],
   "source": []
  }
 ],
 "metadata": {
  "colab": {
   "name": "Welcome To Colab",
   "provenance": []
  },
  "kernelspec": {
   "display_name": "Python 3 (ipykernel)",
   "language": "python",
   "name": "python3"
  },
  "language_info": {
   "codemirror_mode": {
    "name": "ipython",
    "version": 3
   },
   "file_extension": ".py",
   "mimetype": "text/x-python",
   "name": "python",
   "nbconvert_exporter": "python",
   "pygments_lexer": "ipython3",
   "version": "3.12.7"
  }
 },
 "nbformat": 4,
 "nbformat_minor": 4
}
